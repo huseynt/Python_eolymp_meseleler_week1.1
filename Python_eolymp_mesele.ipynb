{
  "nbformat": 4,
  "nbformat_minor": 0,
  "metadata": {
    "colab": {
      "provenance": []
    },
    "kernelspec": {
      "name": "python3",
      "display_name": "Python 3"
    },
    "language_info": {
      "name": "python"
    }
  },
  "cells": [
    {
      "cell_type": "markdown",
      "source": [
        "Proqram ikirəqəmli ədədi oxuyur və ədədin hər bir rəqəmini arada boşluq olmaqla ekrana verir.\n",
        "\n",
        "Giriş verilənləri\n",
        "10\n",
        "10 -\n",
        "99\n",
        "99 arası hər hansı bir natural ədəd\n",
        "\n",
        "Çıxış verilənləri\n",
        "Boşluqla ayrılmış iki rəqəm\n",
        "\n",
        "Nümunə\n",
        "Giriş verilənləri #1 content_copy\n",
        "23\n",
        "\n",
        "Çıxış verilənləri #1 content_copy\n",
        "2 3"
      ],
      "metadata": {
        "id": "9x8Qb9Kz_q_U"
      }
    },
    {
      "cell_type": "code",
      "execution_count": 2,
      "metadata": {
        "colab": {
          "base_uri": "https://localhost:8080/"
        },
        "id": "KD9GcLZk_ZKF",
        "outputId": "db3f7b09-9e48-406b-dd2b-7d7c31fc31c7"
      },
      "outputs": [
        {
          "output_type": "stream",
          "name": "stdout",
          "text": [
            "5\n",
            "0 5\n"
          ]
        }
      ],
      "source": [
        "n=int(input())\n",
        "a=n//10\n",
        "b=n%10\n",
        "print(a,b)"
      ]
    },
    {
      "cell_type": "markdown",
      "source": [
        "Vasyanın anası ondan bağçadakı gənc ağacları suvarmağı xahiş etdi. Vasya bilir — ağaclar nə qədər ki, kiçikdirlər, onları çox yaxşı suvarmaq lazımdır. Amma nə qədər suvarmaq-məlum deyil. Lakin Vasya çox ağıllı oğlan idi. O, orta məktəb üçün botanika dərsliyini tamam diqqətlə oxudu və aydınlaşdırdı ki, suvarma suyunun miqdarı ağacdakı yarpaqların cəmi miqdarı ilə düz mütənasibdir. Ağacların yaxşı böyüməsi üçün hər ağaca onun hər yarpağına bir litr olmaqla su vermək kifayətdir.\n",
        "\n",
        "Vasyanın xoşbəxtliyindən ağacdakı yarpaqlar yaruslarla böyüyür, başqa sözlə, ən yuxarıdakı birinci yarusda iki yarpaq, ikincidə dörd yarpaq, sonrakında altı yarpaq və s., hər sonrakı yarusda əvvəlkindən iki yarpaq çox olmaqla yerləşir. Ən yuxarıda isə əlavə bir yarpaq böyüyür. Bic Vasya kiçik bacısı Maşenkanı ağacdakı yarusların sayını saymağa göndərdi, Sizdən isə hər ağac üçün onu suvarmağa lazım olan suyun miqdarını hesablayan proqramı yazmağı xahiş edir.\n",
        "\n",
        "Giriş verilənləri\n",
        "Giriş faylında ağacda yarusların miqdarı olan\n",
        "�\n",
        "\n",
        "(\n",
        "0\n",
        "≤\n",
        "�\n",
        "≤\n",
        "1000\n",
        ")\n",
        "n (0≤n≤1000) ədədi yazılır.\n",
        "\n",
        "Çıxış verilənləri\n",
        "Çıxışa bu ağacı suvarmaq üçün lazım olan suyun miqdarını litrlə verin.\n",
        "\n",
        "Nümunə\n",
        "Giriş verilənləri #1 content_copy\n",
        "3\n",
        "Çıxış verilənləri #1 content_copy\n",
        "13"
      ],
      "metadata": {
        "id": "K0Be0Fi0_6PO"
      }
    },
    {
      "cell_type": "code",
      "source": [
        "n= int(input())\n",
        "s=n*(n+1)+1\n",
        "print(s)"
      ],
      "metadata": {
        "id": "tRyD226hAJko"
      },
      "execution_count": null,
      "outputs": []
    },
    {
      "cell_type": "markdown",
      "source": [
        "İki ədədin kvadratları cəmini hesablayın.\n",
        "\n",
        "Giriş verilənləri\n",
        "İki a və b ədədləri verilir. Ədədlər mütləq qiymətcə 10^9-u aşmır.\n",
        "\n",
        "Çıxış verilənləri\n",
        "Yeganə tam a^2 + b^2 ədədini verin.\n",
        "\n",
        "Nümunə\n",
        "Giriş verilənləri #1 content_copy\n",
        "2 3\n",
        "Çıxış verilənləri #1 content_copy\n",
        "13"
      ],
      "metadata": {
        "id": "YjRAfj1BAaHd"
      }
    },
    {
      "cell_type": "code",
      "source": [
        "a,b=map(int,input().split())\n",
        "print(a*a+b*b)"
      ],
      "metadata": {
        "id": "sL6axHvdAd5J"
      },
      "execution_count": null,
      "outputs": []
    },
    {
      "cell_type": "markdown",
      "source": [
        "Üçrəqəmli ədəd verilir. Onun rəqəmlərinin hasilini hesablamalı.\n",
        "\n",
        "Giriş verilənləri\n",
        "Tək sətirdə üçrəqəmli ədəd verilir.\n",
        "\n",
        "Çıxış verilənləri\n",
        "Tək sətirdə verilmiş ədədin rəqəmlərinin hasilini verilməli.\n",
        "\n",
        "Nümunə\n",
        "Giriş verilənləri #1 content_copy\n",
        "235\n",
        "Çıxış verilənləri #1 content_copy\n",
        "30"
      ],
      "metadata": {
        "id": "k2-kLifqAg2F"
      }
    },
    {
      "cell_type": "code",
      "source": [
        "n=int(input())\n",
        "a=n//100\n",
        "b=n//10\n",
        "bk=b%10\n",
        "c=n%10\n",
        "print(a*bk*c)"
      ],
      "metadata": {
        "id": "9OesGPUPApA-"
      },
      "execution_count": null,
      "outputs": []
    },
    {
      "cell_type": "markdown",
      "source": [
        "İkirəqəmli natural ədədin rəqəmlərinin cəminin kvadratını hesablayın.\n",
        "\n",
        "Giriş verilənləri\n",
        "İkirəqəmli natural ədəd\n",
        "�\n",
        "n.\n",
        "\n",
        "Çıxış verilənləri\n",
        "Verilmiş ədədin\n",
        "�\n",
        "n rəqəmlərinin cəminin kvadratı.\n",
        "\n",
        "Nümunə\n",
        "Giriş verilənləri #1 content_copy\n",
        "23\n",
        "Çıxış verilənləri #1 content_copy\n",
        "25"
      ],
      "metadata": {
        "id": "loGa7W6wAsiH"
      }
    },
    {
      "cell_type": "code",
      "source": [
        "a=input()\n",
        "li = [int(x) for x in str(a)]\n",
        "cem=(li[0]+li[1])**2\n",
        "print(cem)"
      ],
      "metadata": {
        "id": "4SZK0Od7AxAN"
      },
      "execution_count": null,
      "outputs": []
    },
    {
      "cell_type": "markdown",
      "source": [
        "Üçrəqəmli ədədi orta rəqəmi olmadan yazmalı.\n",
        "\n",
        "Giriş verilənləri\n",
        "Yeganə üçrəqəmli ədəd.\n",
        "\n",
        "Çıxış verilənləri\n",
        "Üçrəqəmli ədədi orta rəqəmi olmadan verməli.\n",
        "\n",
        "Nümunə\n",
        "Giriş verilənləri #1 content_copy\n",
        "198\n",
        "Çıxış verilənləri #1 content_copy\n",
        "18"
      ],
      "metadata": {
        "id": "w6Bnj9cmA0ac"
      }
    },
    {
      "cell_type": "code",
      "source": [
        "a=input()\n",
        "li = [int(n) for n in str(a)]\n",
        "li.pop(1)\n",
        "for i in li:\n",
        "  print(i, end=\"\")"
      ],
      "metadata": {
        "id": "kp_5ZI5vA4jb"
      },
      "execution_count": null,
      "outputs": []
    },
    {
      "cell_type": "markdown",
      "source": [
        "Dördrəqəmlidən ikirəqəmliyə\n",
        "\n",
        "Zaman məhdudiyyəti 1 saniyə\n",
        "\n",
        "Yaddaşı istafadə məhdudiyyəti 128 MiB\n",
        "Dördrəqəmli natural ədəddən onun orta rəqəmlərindən ibarət olan ikirəqəmli ədəd düzəldin.\n",
        "\n",
        "Giriş verilənləri\n",
        "Tək sətirdə verilmiş müsbət dördrəqəmli ədəd\n",
        "�\n",
        "n.\n",
        "\n",
        "Çıxış verilənləri\n",
        "Düzəldilmiş ikirəqəmli ədədi çıxışa verin.\n",
        "\n",
        "Nümunə\n",
        "Giriş verilənləri #1 content_copy\n",
        "4765\n",
        "Çıxış verilənləri #1 content_copy\n",
        "76\n",
        "Giriş verilənləri #2 content_copy\n",
        "1010\n",
        "Çıxış verilənləri #2 content_copy\n",
        "1"
      ],
      "metadata": {
        "id": "Y1lBrd1NA8vU"
      }
    },
    {
      "cell_type": "code",
      "source": [
        "a=int(input())\n",
        "li = [int(x) for x in str(a)]\n",
        "b=li[1:3]\n",
        "for i in b:\n",
        "  if i>0:\n",
        "    print(i, end=\"\")"
      ],
      "metadata": {
        "id": "VjVRQLUSBEYD"
      },
      "execution_count": null,
      "outputs": []
    },
    {
      "cell_type": "markdown",
      "source": [
        "1,2,3,4,5 rəqəmlərinin hər birini yeni sətirdə verin.\n",
        "\n",
        "Giriş verilənləri\n",
        "Giriş verilənləri yoxdur.\n",
        "\n",
        "Çıxış verilənləri\n",
        "1\n",
        ",\n",
        "2\n",
        ",\n",
        "3\n",
        ",\n",
        "4\n",
        ",\n",
        "5\n",
        "1,2,3,4,5 rəqəmlərinin hər birini nümunədə verildiyi kimi yeni sətirdə verin.\n",
        "\n",
        "Nümunə\n",
        "Giriş verilənləri #1 content_copy\n",
        "Çıxış verilənləri #1 content_copy\n",
        "1\n",
        "2\n",
        "3\n",
        "4\n",
        "5"
      ],
      "metadata": {
        "id": "eFSOWD76BM5H"
      }
    },
    {
      "cell_type": "code",
      "source": [
        "for i in range(6):\n",
        "    if i>0:\n",
        "        print(i)"
      ],
      "metadata": {
        "id": "zxJXWHMyBSuE"
      },
      "execution_count": null,
      "outputs": []
    },
    {
      "cell_type": "markdown",
      "source": [
        "İntervaldakı tam ədədlərin cəmi\n",
        "\n",
        "Zaman məhdudiyyəti 1 saniyə\n",
        "\n",
        "Yaddaşı istafadə məhdudiyyəti 128 MiB\n",
        "�\n",
        "a-dan\n",
        "�\n",
        "b­-ə qədər intervalda bütün tam ədədlərin cəmini hesablayın.\n",
        "\n",
        "Giriş verilənləri\n",
        "Modulca\n",
        "2\n",
        "⋅\n",
        "1\n",
        "0\n",
        "9\n",
        "2⋅10\n",
        "9\n",
        " -ı aşmayan iki\n",
        "а\n",
        "а və\n",
        "�\n",
        "b tam ədədləri.\n",
        "\n",
        "Çıxış verilənləri\n",
        "Məsələnin cavabı.\n",
        "\n",
        "Nümunə\n",
        "Giriş verilənləri #1 content_copy\n",
        "2 5\n",
        "Çıxış verilənləri #1 content_copy\n",
        "14"
      ],
      "metadata": {
        "id": "6AJaNFL8BVnE"
      }
    },
    {
      "cell_type": "code",
      "source": [
        "a,b=map(int,input().split())\n",
        "print(sum(range(a,b+1)))"
      ],
      "metadata": {
        "id": "wdeS7_Q-Bcab"
      },
      "execution_count": null,
      "outputs": []
    },
    {
      "cell_type": "markdown",
      "source": [
        "prb4715\n",
        "Hindistanın kəndlərindən birində müəllim oğlan Manmoxandan xahiş etdi ki, kənddəki fillərin sayını hesablasın. Manmoxan kənddəki bütün filləri saydı və o ikirəqəmli n ədədini aldı. Lakin cavabı müəllimə söyləməkdənsə, Manmoxan bir az zarafat etmək qərarına gəldi. Bunun üçün Manmoxan alınmış ədəddən onun rəqəmlərinin cəmini çıxdı, nəticəni 9-a böldü (bu zaman nəticənin kəsr hissəsini atdı), alınmış ədədi 1 vahid artırdı, sonra alınmış ədədin sonuna cari n ədədinin sonuncu rəqəmini yazdı və nəticədən 10 çıxdı. Sonda nə alındısa müəlliminə söylədi.\n",
        "\n",
        "Manmoxanın bütün hiyləgərliyinə baxmayaraq, müəllim alınmış ədədə görə kənddəki fillərin sayını müəyyənləşdirə bildi. Siz də bunu təyin edin.\n",
        "\n",
        "Giriş verilənləri\n",
        "Proqram girişdə Manmoxanın əldə etdiyi ədədi alır.\n",
        "\n",
        "Çıxış verilənləri\n",
        "Proqram kəddəki fillərin sayını hesablamalıdır.\n",
        "\n",
        "Nümunə\n",
        "Giriş verilənləri #1 content_copy\n",
        "17\n",
        "Çıxış verilənləri #1 content_copy\n",
        "17"
      ],
      "metadata": {
        "id": "jw93vBN9BlmD"
      }
    },
    {
      "cell_type": "code",
      "source": [
        "n=int(input())\n",
        "print(n)"
      ],
      "metadata": {
        "id": "XmJbsH1uBmaJ"
      },
      "execution_count": null,
      "outputs": []
    },
    {
      "cell_type": "markdown",
      "source": [
        "Almaları bölüşdürmə - 1\n",
        "\n",
        "Zaman məhdudiyyəti 1 saniyə\n",
        "\n",
        "Yaddaşı istafadə məhdudiyyəti 128 MiB\n",
        "\n",
        "�\n",
        "n məktəbli\n",
        "�\n",
        "k almanı bərabər bölüşdürür, bölünməyən isə zənbildə qalır. Hər bir məktəbliyə neçə alma çatacaq?\n",
        "\n",
        "Giriş verilənləri\n",
        "İki tam\n",
        "�\n",
        "n və\n",
        "�\n",
        "k ədədləri verilir. Bütün giriş verilənləri\n",
        "1500\n",
        "1500-ü aşmır — məktəbdə az hallarda çox şagird olur, çox alma yemək də zərərlidir...\n",
        "\n",
        "Çıxış verilənləri\n",
        "Yeganə ədədi — hər bir şagirdə çatacaq almaların sayını verin.\n",
        "\n",
        "Nümunə\n",
        "Giriş verilənləri #1 content_copy\n",
        "3\n",
        "14\n",
        "Çıxış verilənləri #1 content_copy\n",
        "4\n",
        "Giriş verilənləri #2 content_copy\n",
        "10\n",
        "100\n",
        "Çıxış verilənləri #2 content_copy\n",
        "10"
      ],
      "metadata": {
        "id": "BX--_WajBpjP"
      }
    },
    {
      "cell_type": "code",
      "source": [
        "n= int(input())\n",
        "k= int(input())\n",
        "z=k//n\n",
        "print(z)"
      ],
      "metadata": {
        "id": "ZCRfDUCBBwSH"
      },
      "execution_count": null,
      "outputs": []
    },
    {
      "cell_type": "markdown",
      "source": [
        "Almaları bölüşdürmə - 2\n",
        "\n",
        "Zaman məhdudiyyəti 1 saniyə\n",
        "\n",
        "Yaddaşı istafadə məhdudiyyəti 128 MiB\n",
        "\n",
        "�\n",
        "n məktəbli\n",
        "�\n",
        "k almanı bərabər bölüşdürdülər, bölünməyən qalanlar sabətdə qalır. Səbətdə neçə alma qalacaq?\n",
        "\n",
        "Giriş verilənləri\n",
        "İki tam\n",
        "�\n",
        "n və\n",
        "�\n",
        "k ədədləri verilir. Bütün giriş verilənləri\n",
        "1500\n",
        "1500-ü aşmır — məktəbdə az hallarda çox şagird olur və belə bir səbəti hardan tapmalı?\n",
        "\n",
        "Çıxış verilənləri\n",
        "Proqram yeganə ədədi — səbətdə qalan almaların sayını verməlidir.\n",
        "\n",
        "Nümunə\n",
        "Giriş verilənləri #1 content_copy\n",
        "3\n",
        "14\n",
        "Çıxış verilənləri #1 content_copy\n",
        "2\n",
        "Giriş verilənləri #2 content_copy\n",
        "10\n",
        "100\n",
        "Çıxış verilənləri #2 content_copy\n",
        "0"
      ],
      "metadata": {
        "id": "Blb8rOnTBzGb"
      }
    },
    {
      "cell_type": "code",
      "source": [
        "n= int(input())\n",
        "k= int(input())\n",
        "z=k%n\n",
        "print(z)"
      ],
      "metadata": {
        "id": "0kQYvDV9B3tO"
      },
      "execution_count": null,
      "outputs": []
    },
    {
      "cell_type": "markdown",
      "source": [
        "abc\n",
        "\n",
        "Zaman məhdudiyyəti 1 saniyə\n",
        "\n",
        "Yaddaşı istafadə məhdudiyyəti 128 MiB\n",
        "Birinci sətirdə bir dənə\n",
        "а\n",
        "а hərfini verin. İkinci sətirdə iki dənə\n",
        "�\n",
        "b hərflərini verin. Üçüncü sətirdə üç dənə\n",
        "�\n",
        "c hərflərini verin.\n",
        "\n",
        "Giriş verilənləri\n",
        "Giriş verilənləri yoxdur.\n",
        "\n",
        "Çıxış verilənləri\n",
        "Nümunədə göstərildiyi kimi hərfləri\n",
        "а\n",
        ",\n",
        "�\n",
        "а,b və\n",
        "�\n",
        "c çap edin\n",
        "\n",
        "Nümunə\n",
        "Giriş verilənləri #1 content_copy\n",
        "Çıxış verilənləri #1 content_copy\n",
        "a\n",
        "bb\n",
        "ccc\n"
      ],
      "metadata": {
        "id": "GV6U30SVB6BL"
      }
    },
    {
      "cell_type": "code",
      "source": [
        "a = 97\n",
        "for i in range(1,4):\n",
        " for j in range(1, i+1):\n",
        "   print(\"%c\" %(a), end=\"\")\n",
        "\n",
        " a +=1\n",
        " print()"
      ],
      "metadata": {
        "id": "AmtfMo9bB-ay"
      },
      "execution_count": null,
      "outputs": []
    },
    {
      "cell_type": "markdown",
      "source": [
        "Sonuncu rəqəm\n",
        "\n",
        "Zaman məhdudiyyəti 1 saniyə\n",
        "\n",
        "Yaddaşı istafadə məhdudiyyəti 128 MiB\n",
        "Ədədin sonuncu rəqəmini tapmaq tələb olunur.\n",
        "\n",
        "Giriş verilənləri\n",
        "Yeganə\n",
        "�\n",
        "\n",
        "(\n",
        "1\n",
        "≤\n",
        "�\n",
        "≤\n",
        "1\n",
        "0\n",
        "9\n",
        ")\n",
        "n (1≤n≤10\n",
        "9\n",
        " ) natural ədədi.\n",
        "\n",
        "Çıxış verilənləri\n",
        "�\n",
        "n ədədinin sonuncu rəqəmini verməli.\n",
        "\n",
        "Nümunə\n",
        "Giriş verilənləri #1 content_copy\n",
        "123\n",
        "Çıxış verilənləri #1 content_copy\n",
        "3\n",
        "Giriş verilənləri #2 content_copy\n",
        "6578\n",
        "Çıxış verilənləri #2 content_copy\n",
        "8"
      ],
      "metadata": {
        "id": "RMK6w_BkCAe8"
      }
    },
    {
      "cell_type": "code",
      "source": [
        "print(int(str(input())[-1]))"
      ],
      "metadata": {
        "id": "wfsh2sCnCDf8"
      },
      "execution_count": null,
      "outputs": []
    },
    {
      "cell_type": "markdown",
      "source": [
        "Stepanın dostları\n",
        "\n",
        "Zaman məhdudiyyəti 1 saniyə\n",
        "\n",
        "Yaddaşı istafadə məhdudiyyəti 128 MiB\n",
        "Stepan məktəblilərin beynəlxalq proqramlaşdırma olimpiadasından (IOI) qayitdı və suvenir kimi n müxtəlif rəngli daş gətirdi. Stepan xəsis oğlan deyil, buna görə də daşları dostları ilə bölüşmək qərarına gəldi. Hər bir dostuna bir ədəd daş verdi. Beləliklə, Stepanın özündə də bir ədəd daş qaldı. Onun dostlarının sayını təyin edin.\n",
        "\n",
        "Giriş verilənləri\n",
        "Yeganə tam n (1 ≤ n ≤ 100) ədədi.\n",
        "\n",
        "Çıxış verilənləri\n",
        "Yeganə ədədi - Stepanın dostlarınn sayını verin.\n",
        "\n",
        "Nömunənin şərhi\n",
        "\n",
        "Stepan 2 daş gətirdi, biri özündə qaldı. Deməli ikinci daşı yekanə dostuna verdi.\n",
        "\n",
        "Nümunə\n",
        "Giriş verilənləri #1 content_copy\n",
        "2\n",
        "Çıxış verilənləri #1 content_copy\n",
        "1"
      ],
      "metadata": {
        "id": "LrWmK0FoCFu6"
      }
    },
    {
      "cell_type": "code",
      "source": [
        "a=int(input())\n",
        "if 1<=a<=100:\n",
        "    c=a-1\n",
        "    print(c)"
      ],
      "metadata": {
        "id": "YY1EtzSuCJsS"
      },
      "execution_count": null,
      "outputs": []
    }
  ]
}